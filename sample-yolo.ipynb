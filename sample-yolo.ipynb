{
 "cells": [
  {
   "cell_type": "code",
   "execution_count": null,
   "metadata": {},
   "outputs": [],
   "source": [
    "import os\n",
    "import shutil"
   ]
  },
  {
   "cell_type": "code",
   "execution_count": null,
   "metadata": {},
   "outputs": [],
   "source": [
    "\n",
    "# Set the paths to the source image and label directories\n",
    "image_dir = 'path_to_image_directory'\n",
    "label_dir = 'path_to_label_directory'"
   ]
  },
  {
   "cell_type": "code",
   "execution_count": null,
   "metadata": {},
   "outputs": [],
   "source": [
    "\n",
    "# Set the path for the new image and label directories\n",
    "new_image_dir = 'path_to_new_image_directory'\n",
    "new_label_dir = 'path_to_new_label_directory'"
   ]
  },
  {
   "cell_type": "code",
   "execution_count": null,
   "metadata": {},
   "outputs": [],
   "source": [
    "\n",
    "# Create the new directories if they don't exist\n",
    "os.makedirs(new_image_dir, exist_ok=True)\n",
    "os.makedirs(new_label_dir, exist_ok=True)"
   ]
  },
  {
   "cell_type": "code",
   "execution_count": null,
   "metadata": {},
   "outputs": [],
   "source": [
    "\n",
    "# List the files in the image directory\n",
    "image_files = os.listdir(image_dir)\n",
    "\n",
    "# Select a subset of paired image and label files\n",
    "subset_size = 100  # Change this to the desired number of pairs\n",
    "selected_files = image_files[:subset_size]"
   ]
  },
  {
   "cell_type": "code",
   "execution_count": null,
   "metadata": {},
   "outputs": [],
   "source": [
    "\n",
    "# Loop through the selected files and copy them to the new directories\n",
    "for file in selected_files:\n",
    "    # Create the full file paths\n",
    "    image_path = os.path.join(image_dir, file)\n",
    "    label_file = os.path.splitext(file)[0] + '.txt'  # Assuming label file extension is '.txt'\n",
    "    label_path = os.path.join(label_dir, label_file)\n",
    "\n",
    "    # Copy the image file to the new image directory\n",
    "    new_image_path = os.path.join(new_image_dir, file)\n",
    "    shutil.copy(image_path, new_image_path)\n",
    "\n",
    "    # Copy the label file to the new label directory\n",
    "    new_label_path = os.path.join(new_label_dir, label_file)\n",
    "    shutil.copy(label_path, new_label_path)\n",
    "\n",
    "# After the loop, you will have a subset of paired image and label files\n",
    "# saved in the new image and label directories."
   ]
  }
 ],
 "metadata": {
  "language_info": {
   "name": "python"
  },
  "orig_nbformat": 4
 },
 "nbformat": 4,
 "nbformat_minor": 2
}
