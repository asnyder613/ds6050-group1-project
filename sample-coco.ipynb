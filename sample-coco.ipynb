{
 "cells": [
  {
   "cell_type": "code",
   "execution_count": 2,
   "metadata": {},
   "outputs": [
    {
     "name": "stdout",
     "output_type": "stream",
     "text": [
      "Note: you may need to restart the kernel to use updated packages.\n"
     ]
    }
   ],
   "source": [
    "%pip install pycocotools -q"
   ]
  },
  {
   "cell_type": "code",
   "execution_count": 11,
   "metadata": {},
   "outputs": [],
   "source": [
    "from pycocotools.coco import COCO\n",
    "import random\n",
    "import json"
   ]
  },
  {
   "cell_type": "code",
   "execution_count": 6,
   "metadata": {},
   "outputs": [
    {
     "name": "stdout",
     "output_type": "stream",
     "text": [
      "loading annotations into memory...\n",
      "Done (t=0.19s)\n",
      "creating index...\n",
      "index created!\n"
     ]
    }
   ],
   "source": [
    "\n",
    "# Load the COCO JSON file\n",
    "# coco_json_path = \"/scratch/ybt7qf/ds6050-group1-project/datasets/eurocitypersonsdataset/labels/train-resize/eurocitypersonsdataset_train.json\"\n",
    "coco_json_path = \"/scratch/ybt7qf/ds6050-group1-project/datasets/eurocitypersonsdataset/labels/val-resize/eurocitypersonsdataset_val.json\"\n",
    "coco = COCO(coco_json_path)"
   ]
  },
  {
   "cell_type": "code",
   "execution_count": 8,
   "metadata": {},
   "outputs": [],
   "source": [
    "# Get a list of all image IDs\n",
    "all_image_ids = coco.getImgIds()"
   ]
  },
  {
   "cell_type": "code",
   "execution_count": null,
   "metadata": {},
   "outputs": [],
   "source": [
    "# Select a random subset of image IDs\n",
    "num_samples = 100  # Change this to the desired number of samples\n",
    "selected_image_ids = random.sample(all_image_ids, num_samples)"
   ]
  },
  {
   "cell_type": "code",
   "execution_count": null,
   "metadata": {},
   "outputs": [],
   "source": [
    "selected_annotations = []\n",
    "for image_id in selected_image_ids:\n",
    "    ann_ids = coco.getAnnIds(imgIds=image_id)\n",
    "    annotations = coco.loadAnns(ann_ids)\n",
    "    selected_annotations.extend(annotations)"
   ]
  },
  {
   "cell_type": "code",
   "execution_count": 12,
   "metadata": {},
   "outputs": [],
   "source": [
    "subsample_data = {\n",
    "    \"info\": \"\", #coco.dataset['info'],\n",
    "    \"licenses\": \"\", #coco.dataset['licenses'],\n",
    "    \"images\": [coco.imgs[image_id] for image_id in selected_image_ids],\n",
    "    \"annotations\": selected_annotations,\n",
    "    \"categories\": coco.dataset['categories']\n",
    "}\n",
    "\n",
    "with open('subsampled_annotations.json', 'w') as f:\n",
    "    json.dump(subsample_data, f)"
   ]
  }
 ],
 "metadata": {
  "kernelspec": {
   "display_name": "base",
   "language": "python",
   "name": "python3"
  },
  "language_info": {
   "codemirror_mode": {
    "name": "ipython",
    "version": 3
   },
   "file_extension": ".py",
   "mimetype": "text/x-python",
   "name": "python",
   "nbconvert_exporter": "python",
   "pygments_lexer": "ipython3",
   "version": "3.8.8"
  },
  "orig_nbformat": 4
 },
 "nbformat": 4,
 "nbformat_minor": 2
}
