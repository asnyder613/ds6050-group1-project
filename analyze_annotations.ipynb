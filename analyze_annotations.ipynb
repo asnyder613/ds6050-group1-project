{
 "cells": [
  {
   "cell_type": "code",
   "execution_count": 1,
   "metadata": {},
   "outputs": [
    {
     "name": "stderr",
     "output_type": "stream",
     "text": [
      "/home/ybt7qf/.local/lib/python3.8/site-packages/pandas/core/computation/expressions.py:20: UserWarning: Pandas requires version '2.7.3' or newer of 'numexpr' (version '2.7.1' currently installed).\n",
      "  from pandas.core.computation.check import NUMEXPR_INSTALLED\n"
     ]
    }
   ],
   "source": [
    "from pylabel import importer\n",
    "import yaml"
   ]
  },
  {
   "cell_type": "code",
   "execution_count": null,
   "metadata": {},
   "outputs": [],
   "source": [
    "path_to_annotations = \"/scratch/ybt7qf/ds6050-group1-project/datasets/eurocitypersonsdataset/labels/val-resize/\"\n",
    "path_to_images = \"/scratch/ybt7qf/ds6050-group1-project/datasets/eurocitypersonsdataset/images/val-resize/\"\n",
    "path_to_yolo_yaml = \"/scratch/ybt7qf/ds6050-group1-project/datasets/eurocitypersonsdataset.yaml\""
   ]
  },
  {
   "cell_type": "code",
   "execution_count": null,
   "metadata": {},
   "outputs": [],
   "source": [
    "with open(args.path_to_yolo_yaml, 'r') as file:\n",
    "    content = file.read()\n",
    "data = yaml.load(content, Loader=yaml.FullLoader)"
   ]
  },
  {
   "cell_type": "code",
   "execution_count": null,
   "metadata": {},
   "outputs": [],
   "source": [
    "classes = data['names']\n",
    "dataset = importer.ImportYoloV5(\n",
    "    path=path_to_annotations,\n",
    "    path_to_images=path_to_images,\n",
    "    cat_names=classes,\n",
    "    img_ext=\"png\",\n",
    "    name=name\n",
    ")"
   ]
  },
  {
   "cell_type": "code",
   "execution_count": null,
   "metadata": {},
   "outputs": [],
   "source": [
    "\n",
    "print(dataset.df.head(5))\n",
    "print(f\"Number of images: {dataset.analyze.num_images}\")\n",
    "print(f\"Number of classes: {dataset.analyze.num_classes}\")\n",
    "print(f\"Classes: {dataset.analyze.classes}\")\n",
    "print(f\"Class counts:\\n{dataset.analyze.class_counts}\")"
   ]
  }
 ],
 "metadata": {
  "kernelspec": {
   "display_name": "base",
   "language": "python",
   "name": "python3"
  },
  "language_info": {
   "codemirror_mode": {
    "name": "ipython",
    "version": 3
   },
   "file_extension": ".py",
   "mimetype": "text/x-python",
   "name": "python",
   "nbconvert_exporter": "python",
   "pygments_lexer": "ipython3",
   "version": "3.8.8"
  },
  "orig_nbformat": 4
 },
 "nbformat": 4,
 "nbformat_minor": 2
}
