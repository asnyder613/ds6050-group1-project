{
 "cells": [
  {
   "cell_type": "markdown",
   "metadata": {
    "id": "139b6807-2bc9-4481-9a9c-4ea70a1a3d5a"
   },
   "source": [
    "# YOLOv8 Model Training (ECP)\n",
    "**Purpose: Train YOLOv8 model on ECP dataset**</br>\n",
    "**Final Project**</br>\n",
    "**Group 1**</br>\n",
    "**DS6050 Deep Learning**</br>\n",
    "**Fall 2023**</br>"
   ]
  },
  {
   "cell_type": "code",
   "execution_count": 1,
   "metadata": {},
   "outputs": [
    {
     "name": "stdout",
     "output_type": "stream",
     "text": [
      "\u001b[31mERROR: After October 2020 you may experience errors when installing or updating packages. This is because pip will change the way that it resolves dependency conflicts.\n",
      "\n",
      "We recommend you use --use-feature=2020-resolver to test your packages with the new resolver before it becomes the default.\n",
      "\n",
      "conda 4.11.0 requires ruamel_yaml_conda>=0.11.14, which is not installed.\n",
      "botocore 1.31.62 requires urllib3<1.27,>=1.25.4; python_version < \"3.10\", but you'll have urllib3 2.0.7 which is incompatible.\n",
      "requests 2.24.0 requires urllib3!=1.25.0,!=1.25.1,<1.26,>=1.21.1, but you'll have urllib3 2.0.7 which is incompatible.\u001b[0m\n",
      "Note: you may need to restart the kernel to use updated packages.\n",
      "\u001b[31mERROR: After October 2020 you may experience errors when installing or updating packages. This is because pip will change the way that it resolves dependency conflicts.\n",
      "\n",
      "We recommend you use --use-feature=2020-resolver to test your packages with the new resolver before it becomes the default.\n",
      "\n",
      "conda 4.11.0 requires ruamel_yaml_conda>=0.11.14, which is not installed.\n",
      "sentry-sdk 1.32.0 requires urllib3>=1.26.11; python_version >= \"3.6\", but you'll have urllib3 1.25.11 which is incompatible.\u001b[0m\n",
      "Note: you may need to restart the kernel to use updated packages.\n"
     ]
    }
   ],
   "source": [
    "%pip install wandb -q\n",
    "%pip install ultralytics -q"
   ]
  },
  {
   "cell_type": "code",
   "execution_count": 2,
   "metadata": {
    "id": "4d701f3e-eea6-41bd-a5a9-2e23ecbf6de8",
    "tags": []
   },
   "outputs": [],
   "source": [
    "from ultralytics import YOLO\n",
    "import wandb"
   ]
  },
  {
   "cell_type": "code",
   "execution_count": null,
   "metadata": {
    "id": "34f7434f-9407-48c9-9ca4-eebe69f28eb0",
    "outputId": "da5a2006-2523-40cc-9853-fa7c061e3ad5",
    "tags": []
   },
   "outputs": [
    {
     "name": "stderr",
     "output_type": "stream",
     "text": [
      "Downloading https://github.com/ultralytics/assets/releases/download/v0.0.0/yolov8s.pt to 'yolov8s.pt'...\n",
      "100%|██████████| 21.5M/21.5M [00:00<00:00, 63.6MB/s]\n",
      "New https://pypi.org/project/ultralytics/8.0.203 available 😃 Update with 'pip install -U ultralytics'\n",
      "Ultralytics YOLOv8.0.196 🚀 Python-3.8.8 torch-2.1.0+cu121 CUDA:0 (NVIDIA A100-SXM4-40GB, 40339MiB)\n",
      "\u001b[34m\u001b[1mengine/trainer: \u001b[0mtask=detect, mode=train, model=yolov8s.pt, data=/scratch/ybt7qf/ds6050-group1-project/datasets/eurocitypersonsdataset.yaml, epochs=50, patience=50, batch=64, imgsz=640, save=True, save_period=-1, cache=False, device=[0], workers=8, project=DS6050_Pedestrian_ECP_YOLO, name=None, exist_ok=False, pretrained=True, optimizer=auto, verbose=True, seed=0, deterministic=True, single_cls=False, rect=False, cos_lr=False, close_mosaic=10, resume=False, amp=True, fraction=1.0, profile=False, freeze=None, overlap_mask=True, mask_ratio=4, dropout=0.0, val=True, split=val, save_json=False, save_hybrid=False, conf=None, iou=0.7, max_det=300, half=False, dnn=False, plots=True, source=None, show=False, save_txt=False, save_conf=False, save_crop=False, show_labels=True, show_conf=True, vid_stride=1, stream_buffer=False, line_width=None, visualize=False, augment=False, agnostic_nms=False, classes=None, retina_masks=False, boxes=True, format=torchscript, keras=False, optimize=False, int8=False, dynamic=False, simplify=False, opset=None, workspace=4, nms=False, lr0=0.01, lrf=0.01, momentum=0.937, weight_decay=0.0005, warmup_epochs=3.0, warmup_momentum=0.8, warmup_bias_lr=0.1, box=7.5, cls=0.5, dfl=1.5, pose=12.0, kobj=1.0, label_smoothing=0.0, nbs=64, hsv_h=0.015, hsv_s=0.7, hsv_v=0.4, degrees=0.0, translate=0.1, scale=0.5, shear=0.0, perspective=0.0, flipud=0.0, fliplr=0.5, mosaic=1.0, mixup=0.0, copy_paste=0.0, cfg=None, tracker=botsort.yaml, save_dir=DS6050_Pedestrian_ECP_YOLO/train\n",
      "Overriding model.yaml nc=80 with nc=12\n",
      "\n",
      "                   from  n    params  module                                       arguments                     \n",
      "  0                  -1  1       928  ultralytics.nn.modules.conv.Conv             [3, 32, 3, 2]                 \n",
      "  1                  -1  1     18560  ultralytics.nn.modules.conv.Conv             [32, 64, 3, 2]                \n",
      "  2                  -1  1     29056  ultralytics.nn.modules.block.C2f             [64, 64, 1, True]             \n",
      "  3                  -1  1     73984  ultralytics.nn.modules.conv.Conv             [64, 128, 3, 2]               \n",
      "  4                  -1  2    197632  ultralytics.nn.modules.block.C2f             [128, 128, 2, True]           \n",
      "  5                  -1  1    295424  ultralytics.nn.modules.conv.Conv             [128, 256, 3, 2]              \n",
      "  6                  -1  2    788480  ultralytics.nn.modules.block.C2f             [256, 256, 2, True]           \n",
      "  7                  -1  1   1180672  ultralytics.nn.modules.conv.Conv             [256, 512, 3, 2]              \n",
      "  8                  -1  1   1838080  ultralytics.nn.modules.block.C2f             [512, 512, 1, True]           \n",
      "  9                  -1  1    656896  ultralytics.nn.modules.block.SPPF            [512, 512, 5]                 \n",
      " 10                  -1  1         0  torch.nn.modules.upsampling.Upsample         [None, 2, 'nearest']          \n",
      " 11             [-1, 6]  1         0  ultralytics.nn.modules.conv.Concat           [1]                           \n",
      " 12                  -1  1    591360  ultralytics.nn.modules.block.C2f             [768, 256, 1]                 \n",
      " 13                  -1  1         0  torch.nn.modules.upsampling.Upsample         [None, 2, 'nearest']          \n",
      " 14             [-1, 4]  1         0  ultralytics.nn.modules.conv.Concat           [1]                           \n",
      " 15                  -1  1    148224  ultralytics.nn.modules.block.C2f             [384, 128, 1]                 \n",
      " 16                  -1  1    147712  ultralytics.nn.modules.conv.Conv             [128, 128, 3, 2]              \n",
      " 17            [-1, 12]  1         0  ultralytics.nn.modules.conv.Concat           [1]                           \n",
      " 18                  -1  1    493056  ultralytics.nn.modules.block.C2f             [384, 256, 1]                 \n",
      " 19                  -1  1    590336  ultralytics.nn.modules.conv.Conv             [256, 256, 3, 2]              \n",
      " 20             [-1, 9]  1         0  ultralytics.nn.modules.conv.Concat           [1]                           \n",
      " 21                  -1  1   1969152  ultralytics.nn.modules.block.C2f             [768, 512, 1]                 \n",
      " 22        [15, 18, 21]  1   2120692  ultralytics.nn.modules.head.Detect           [12, [128, 256, 512]]         \n",
      "Model summary: 225 layers, 11140244 parameters, 11140228 gradients, 28.7 GFLOPs\n",
      "\n",
      "Transferred 349/355 items from pretrained weights\n",
      "\u001b[34m\u001b[1mTensorBoard: \u001b[0mStart with 'tensorboard --logdir DS6050_Pedestrian_ECP_YOLO/train', view at http://localhost:6006/\n",
      "Failed to detect the name of this notebook, you can set it manually with the WANDB_NOTEBOOK_NAME environment variable to enable code saving.\n",
      "\u001b[34m\u001b[1mwandb\u001b[0m: Currently logged in as: \u001b[33mybt7qf\u001b[0m (\u001b[33mds6050-pedestriandetection\u001b[0m). Use \u001b[1m`wandb login --relogin`\u001b[0m to force relogin\n"
     ]
    },
    {
     "data": {
      "application/vnd.jupyter.widget-view+json": {
       "model_id": "bc06c6784af0411e9ac7c4d6aecfaab4",
       "version_major": 2,
       "version_minor": 0
      },
      "text/plain": [
       "VBox(children=(Label(value='Waiting for wandb.init()...\\r'), FloatProgress(value=0.011112225567921996, max=1.0…"
      ]
     },
     "metadata": {},
     "output_type": "display_data"
    },
    {
     "data": {
      "text/html": [
       "Tracking run with wandb version 0.15.12"
      ],
      "text/plain": [
       "<IPython.core.display.HTML object>"
      ]
     },
     "metadata": {},
     "output_type": "display_data"
    },
    {
     "data": {
      "text/html": [
       "Run data is saved locally in <code>/sfs/qumulo/qhome/ybt7qf/ds6050-group1-project/wandb/run-20231030_203309-93qtt0gg</code>"
      ],
      "text/plain": [
       "<IPython.core.display.HTML object>"
      ]
     },
     "metadata": {},
     "output_type": "display_data"
    },
    {
     "data": {
      "text/html": [
       "Syncing run <strong><a href='https://wandb.ai/ds6050-pedestriandetection/DS6050_Pedestrian_ECP_YOLO/runs/93qtt0gg' target=\"_blank\">abominable-phantom-3</a></strong> to <a href='https://wandb.ai/ds6050-pedestriandetection/DS6050_Pedestrian_ECP_YOLO' target=\"_blank\">Weights & Biases</a> (<a href='https://wandb.me/run' target=\"_blank\">docs</a>)<br/>"
      ],
      "text/plain": [
       "<IPython.core.display.HTML object>"
      ]
     },
     "metadata": {},
     "output_type": "display_data"
    },
    {
     "data": {
      "text/html": [
       " View project at <a href='https://wandb.ai/ds6050-pedestriandetection/DS6050_Pedestrian_ECP_YOLO' target=\"_blank\">https://wandb.ai/ds6050-pedestriandetection/DS6050_Pedestrian_ECP_YOLO</a>"
      ],
      "text/plain": [
       "<IPython.core.display.HTML object>"
      ]
     },
     "metadata": {},
     "output_type": "display_data"
    },
    {
     "data": {
      "text/html": [
       " View run at <a href='https://wandb.ai/ds6050-pedestriandetection/DS6050_Pedestrian_ECP_YOLO/runs/93qtt0gg' target=\"_blank\">https://wandb.ai/ds6050-pedestriandetection/DS6050_Pedestrian_ECP_YOLO/runs/93qtt0gg</a>"
      ],
      "text/plain": [
       "<IPython.core.display.HTML object>"
      ]
     },
     "metadata": {},
     "output_type": "display_data"
    },
    {
     "name": "stderr",
     "output_type": "stream",
     "text": [
      "Freezing layer 'model.22.dfl.conv.weight'\n",
      "\u001b[34m\u001b[1mAMP: \u001b[0mrunning Automatic Mixed Precision (AMP) checks with YOLOv8n...\n",
      "Downloading https://github.com/ultralytics/assets/releases/download/v0.0.0/yolov8n.pt to 'yolov8n.pt'...\n",
      "100%|██████████| 6.23M/6.23M [00:00<00:00, 31.2MB/s]\n",
      "/home/ybt7qf/.local/lib/python3.8/site-packages/pandas/core/computation/expressions.py:20: UserWarning: Pandas requires version '2.7.3' or newer of 'numexpr' (version '2.7.1' currently installed).\n",
      "  from pandas.core.computation.check import NUMEXPR_INSTALLED\n",
      "WARNING ⚠️ NMS time limit 0.550s exceeded\n",
      "\u001b[34m\u001b[1mAMP: \u001b[0mchecks passed ✅\n",
      "\u001b[34m\u001b[1mtrain: \u001b[0mScanning /sfs/weka/scratch/ybt7qf/ds6050-group1-project/datasets/eurocitypersonsdataset/labels/train-resize.cache... 28114 images, 2453 backgrounds, 0 corrupt: 100%|██████████| 28114/28114 [00:00<?, ?it/s]\n",
      "\u001b[34m\u001b[1mval: \u001b[0mScanning /sfs/weka/scratch/ybt7qf/ds6050-group1-project/datasets/eurocitypersonsdataset/labels/val-resize.cache... 5036 images, 388 backgrounds, 0 corrupt: 100%|██████████| 5036/5036 [00:00<?, ?it/s]\n",
      "Plotting labels to DS6050_Pedestrian_ECP_YOLO/train/labels.jpg... \n",
      "\u001b[34m\u001b[1moptimizer:\u001b[0m 'optimizer=auto' found, ignoring 'lr0=0.01' and 'momentum=0.937' and determining best 'optimizer', 'lr0' and 'momentum' automatically... \n",
      "\u001b[34m\u001b[1moptimizer:\u001b[0m SGD(lr=0.01, momentum=0.9) with parameter groups 57 weight(decay=0.0), 64 weight(decay=0.0005), 63 bias(decay=0.0)\n",
      "Image sizes 640 train, 640 val\n",
      "Using 8 dataloader workers\n",
      "Logging results to \u001b[1mDS6050_Pedestrian_ECP_YOLO/train\u001b[0m\n",
      "Starting training for 50 epochs...\n",
      "\n",
      "      Epoch    GPU_mem   box_loss   cls_loss   dfl_loss  Instances       Size\n",
      "       1/50      19.4G      2.849      3.536      1.602        239        640: 100%|██████████| 440/440 [01:52<00:00,  3.93it/s]\n",
      "                 Class     Images  Instances      Box(P          R      mAP50  mAP50-95): 100%|██████████| 40/40 [00:29<00:00,  1.38it/s]\n",
      "                   all       5036      44769      0.363     0.0883     0.0687     0.0284\n",
      "\n",
      "      Epoch    GPU_mem   box_loss   cls_loss   dfl_loss  Instances       Size\n",
      "       2/50      18.8G      2.217      1.937      1.288        210        640: 100%|██████████| 440/440 [01:50<00:00,  3.99it/s]\n",
      "                 Class     Images  Instances      Box(P          R      mAP50  mAP50-95): 100%|██████████| 40/40 [00:26<00:00,  1.51it/s]\n",
      "                   all       5036      44769      0.343     0.0856     0.0631     0.0275\n",
      "\n",
      "      Epoch    GPU_mem   box_loss   cls_loss   dfl_loss  Instances       Size\n",
      "       3/50      19.2G      2.199      1.929      1.281        175        640: 100%|██████████| 440/440 [01:51<00:00,  3.95it/s]\n",
      "                 Class     Images  Instances      Box(P          R      mAP50  mAP50-95): 100%|██████████| 40/40 [00:34<00:00,  1.16it/s]\n",
      "                   all       5036      44769       0.23     0.0603     0.0303     0.0119\n",
      "\n",
      "      Epoch    GPU_mem   box_loss   cls_loss   dfl_loss  Instances       Size\n",
      "       4/50      16.5G       2.19      1.885      1.277        153        640: 100%|██████████| 440/440 [01:52<00:00,  3.93it/s]\n",
      "                 Class     Images  Instances      Box(P          R      mAP50  mAP50-95): 100%|██████████| 40/40 [00:22<00:00,  1.78it/s]\n",
      "                   all       5036      44769      0.326     0.0956     0.0849     0.0397\n",
      "\n",
      "      Epoch    GPU_mem   box_loss   cls_loss   dfl_loss  Instances       Size\n",
      "       5/50      17.3G      2.046       1.63       1.22        264        640: 100%|██████████| 440/440 [01:51<00:00,  3.95it/s]\n",
      "                 Class     Images  Instances      Box(P          R      mAP50  mAP50-95): 100%|██████████| 40/40 [00:27<00:00,  1.48it/s]\n",
      "                   all       5036      44769      0.365      0.112      0.114     0.0539\n",
      "\n",
      "      Epoch    GPU_mem   box_loss   cls_loss   dfl_loss  Instances       Size\n",
      "       6/50        20G      1.971      1.549      1.188        304        640: 100%|██████████| 440/440 [01:51<00:00,  3.94it/s]\n",
      "                 Class     Images  Instances      Box(P          R      mAP50  mAP50-95): 100%|██████████| 40/40 [00:26<00:00,  1.50it/s]\n",
      "                   all       5036      44769      0.555      0.115      0.126     0.0608\n",
      "\n",
      "      Epoch    GPU_mem   box_loss   cls_loss   dfl_loss  Instances       Size\n",
      "       7/50      16.2G      1.925      1.499      1.171        228        640: 100%|██████████| 440/440 [01:51<00:00,  3.93it/s]\n",
      "                 Class     Images  Instances      Box(P          R      mAP50  mAP50-95): 100%|██████████| 40/40 [00:23<00:00,  1.67it/s]\n",
      "                   all       5036      44769      0.279      0.121      0.129     0.0627\n",
      "\n",
      "      Epoch    GPU_mem   box_loss   cls_loss   dfl_loss  Instances       Size\n",
      "       8/50      16.4G       1.89      1.466      1.157        216        640: 100%|██████████| 440/440 [01:51<00:00,  3.94it/s]\n",
      "                 Class     Images  Instances      Box(P          R      mAP50  mAP50-95): 100%|██████████| 40/40 [00:23<00:00,  1.70it/s]\n",
      "                   all       5036      44769      0.366      0.146      0.141     0.0699\n",
      "\n",
      "      Epoch    GPU_mem   box_loss   cls_loss   dfl_loss  Instances       Size\n",
      "       9/50      16.7G      1.853      1.426      1.143        253        640: 100%|██████████| 440/440 [01:52<00:00,  3.92it/s]\n",
      "                 Class     Images  Instances      Box(P          R      mAP50  mAP50-95): 100%|██████████| 40/40 [00:22<00:00,  1.81it/s]\n",
      "                   all       5036      44769      0.298      0.149      0.146     0.0709\n",
      "\n",
      "      Epoch    GPU_mem   box_loss   cls_loss   dfl_loss  Instances       Size\n",
      "      10/50      19.7G      1.835      1.401      1.135        231        640: 100%|██████████| 440/440 [01:51<00:00,  3.94it/s]\n",
      "                 Class     Images  Instances      Box(P          R      mAP50  mAP50-95): 100%|██████████| 40/40 [00:24<00:00,  1.66it/s]\n",
      "                   all       5036      44769      0.388      0.151      0.155     0.0772\n",
      "\n",
      "      Epoch    GPU_mem   box_loss   cls_loss   dfl_loss  Instances       Size\n",
      "      11/50      16.2G      1.809      1.377      1.126        222        640: 100%|██████████| 440/440 [01:51<00:00,  3.93it/s]\n",
      "                 Class     Images  Instances      Box(P          R      mAP50  mAP50-95): 100%|██████████| 40/40 [00:22<00:00,  1.76it/s]\n",
      "                   all       5036      44769      0.341      0.142      0.155     0.0791\n",
      "\n",
      "      Epoch    GPU_mem   box_loss   cls_loss   dfl_loss  Instances       Size\n",
      "      12/50        19G      1.795      1.362       1.12        238        640: 100%|██████████| 440/440 [01:52<00:00,  3.91it/s]\n",
      "                 Class     Images  Instances      Box(P          R      mAP50  mAP50-95): 100%|██████████| 40/40 [00:22<00:00,  1.75it/s]\n",
      "                   all       5036      44769      0.434       0.15       0.16     0.0807\n",
      "\n",
      "      Epoch    GPU_mem   box_loss   cls_loss   dfl_loss  Instances       Size\n",
      "      13/50        18G      1.774       1.34       1.11        175        640: 100%|██████████| 440/440 [01:52<00:00,  3.92it/s]\n",
      "                 Class     Images  Instances      Box(P          R      mAP50  mAP50-95): 100%|██████████| 40/40 [00:21<00:00,  1.90it/s]\n",
      "                   all       5036      44769      0.384      0.162      0.162     0.0833\n",
      "\n",
      "      Epoch    GPU_mem   box_loss   cls_loss   dfl_loss  Instances       Size\n",
      "      14/50      17.5G      1.758      1.332      1.106        288        640: 100%|██████████| 440/440 [01:52<00:00,  3.92it/s]\n",
      "                 Class     Images  Instances      Box(P          R      mAP50  mAP50-95): 100%|██████████| 40/40 [00:21<00:00,  1.87it/s]\n",
      "                   all       5036      44769      0.391      0.164      0.164     0.0848\n",
      "\n",
      "      Epoch    GPU_mem   box_loss   cls_loss   dfl_loss  Instances       Size\n",
      "      15/50      17.8G      1.741      1.309      1.097        274        640: 100%|██████████| 440/440 [01:51<00:00,  3.95it/s]\n",
      "                 Class     Images  Instances      Box(P          R      mAP50  mAP50-95): 100%|██████████| 40/40 [00:21<00:00,  1.83it/s]\n",
      "                   all       5036      44769      0.443      0.154      0.168     0.0867\n",
      "\n",
      "      Epoch    GPU_mem   box_loss   cls_loss   dfl_loss  Instances       Size\n",
      "      16/50      19.2G      1.731      1.301      1.097        268        640: 100%|██████████| 440/440 [01:52<00:00,  3.92it/s]\n",
      "                 Class     Images  Instances      Box(P          R      mAP50  mAP50-95): 100%|██████████| 40/40 [00:21<00:00,  1.85it/s]\n",
      "                   all       5036      44769      0.407      0.167      0.171     0.0891\n",
      "\n",
      "      Epoch    GPU_mem   box_loss   cls_loss   dfl_loss  Instances       Size\n",
      "      17/50      19.5G      1.726      1.289      1.092        403        640: 100%|██████████| 440/440 [01:51<00:00,  3.96it/s]\n",
      "                 Class     Images  Instances      Box(P          R      mAP50  mAP50-95): 100%|██████████| 40/40 [00:21<00:00,  1.86it/s]\n",
      "                   all       5036      44769      0.401      0.171      0.173     0.0903\n",
      "\n",
      "      Epoch    GPU_mem   box_loss   cls_loss   dfl_loss  Instances       Size\n",
      "      18/50      19.1G      1.705      1.271      1.088        262        640: 100%|██████████| 440/440 [01:50<00:00,  3.98it/s]\n",
      "                 Class     Images  Instances      Box(P          R      mAP50  mAP50-95): 100%|██████████| 40/40 [00:21<00:00,  1.90it/s]\n",
      "                   all       5036      44769      0.404      0.174      0.177     0.0926\n",
      "\n",
      "      Epoch    GPU_mem   box_loss   cls_loss   dfl_loss  Instances       Size\n",
      "      19/50      16.5G        1.7      1.263      1.082        171        640: 100%|██████████| 440/440 [01:51<00:00,  3.96it/s]\n",
      "                 Class     Images  Instances      Box(P          R      mAP50  mAP50-95): 100%|██████████| 40/40 [00:20<00:00,  1.92it/s]\n",
      "                   all       5036      44769      0.388       0.18      0.178     0.0933\n",
      "\n",
      "      Epoch    GPU_mem   box_loss   cls_loss   dfl_loss  Instances       Size\n",
      "      20/50      16.4G      1.688      1.252      1.078        276        640: 100%|██████████| 440/440 [01:50<00:00,  3.96it/s]\n",
      "                 Class     Images  Instances      Box(P          R      mAP50  mAP50-95): 100%|██████████| 40/40 [00:20<00:00,  1.92it/s]\n",
      "                   all       5036      44769      0.472       0.18      0.182     0.0958\n",
      "\n",
      "      Epoch    GPU_mem   box_loss   cls_loss   dfl_loss  Instances       Size\n",
      "      21/50      16.9G      1.679      1.245      1.075        280        640: 100%|██████████| 440/440 [01:51<00:00,  3.94it/s]\n",
      "                 Class     Images  Instances      Box(P          R      mAP50  mAP50-95): 100%|██████████| 40/40 [00:21<00:00,  1.89it/s]\n",
      "                   all       5036      44769      0.517      0.163      0.182     0.0959\n",
      "\n",
      "      Epoch    GPU_mem   box_loss   cls_loss   dfl_loss  Instances       Size\n",
      "      22/50      18.2G      1.669      1.236      1.071        260        640: 100%|██████████| 440/440 [01:51<00:00,  3.95it/s]\n",
      "                 Class     Images  Instances      Box(P          R      mAP50  mAP50-95): 100%|██████████| 40/40 [00:21<00:00,  1.90it/s]\n",
      "                   all       5036      44769      0.531      0.169      0.185     0.0983\n",
      "\n",
      "      Epoch    GPU_mem   box_loss   cls_loss   dfl_loss  Instances       Size\n",
      "      23/50      17.8G      1.657      1.225      1.067        294        640: 100%|██████████| 440/440 [01:52<00:00,  3.92it/s]\n",
      "                 Class     Images  Instances      Box(P          R      mAP50  mAP50-95): 100%|██████████| 40/40 [00:20<00:00,  1.97it/s]\n",
      "                   all       5036      44769      0.423      0.174      0.185     0.0992\n",
      "\n",
      "      Epoch    GPU_mem   box_loss   cls_loss   dfl_loss  Instances       Size\n",
      "      24/50      19.8G      1.651      1.219      1.064        302        640: 100%|██████████| 440/440 [01:51<00:00,  3.96it/s]\n",
      "                 Class     Images  Instances      Box(P          R      mAP50  mAP50-95): 100%|██████████| 40/40 [00:20<00:00,  1.95it/s]\n",
      "                   all       5036      44769      0.418      0.176      0.185     0.0989\n",
      "\n",
      "      Epoch    GPU_mem   box_loss   cls_loss   dfl_loss  Instances       Size\n",
      "      25/50      17.6G      1.647      1.213      1.062        284        640: 100%|██████████| 440/440 [01:50<00:00,  3.97it/s]\n",
      "                 Class     Images  Instances      Box(P          R      mAP50  mAP50-95): 100%|██████████| 40/40 [00:20<00:00,  1.91it/s]\n",
      "                   all       5036      44769      0.427      0.179      0.189      0.101\n",
      "\n",
      "      Epoch    GPU_mem   box_loss   cls_loss   dfl_loss  Instances       Size\n",
      "      26/50      19.4G      1.637      1.204      1.058        240        640: 100%|██████████| 440/440 [01:50<00:00,  3.98it/s]\n",
      "                 Class     Images  Instances      Box(P          R      mAP50  mAP50-95): 100%|██████████| 40/40 [00:20<00:00,  1.91it/s]\n",
      "                   all       5036      44769      0.439       0.18      0.191      0.103\n",
      "\n",
      "      Epoch    GPU_mem   box_loss   cls_loss   dfl_loss  Instances       Size\n",
      "      27/50        19G      1.624      1.189      1.053        297        640: 100%|██████████| 440/440 [01:51<00:00,  3.93it/s]\n",
      "                 Class     Images  Instances      Box(P          R      mAP50  mAP50-95): 100%|██████████| 40/40 [00:20<00:00,  1.91it/s]\n",
      "                   all       5036      44769      0.402      0.192       0.19      0.102\n",
      "\n",
      "      Epoch    GPU_mem   box_loss   cls_loss   dfl_loss  Instances       Size\n",
      "      28/50      16.6G      1.615      1.181      1.052        280        640: 100%|██████████| 440/440 [01:51<00:00,  3.95it/s]\n",
      "                 Class     Images  Instances      Box(P          R      mAP50  mAP50-95): 100%|██████████| 40/40 [00:19<00:00,  2.02it/s]\n",
      "                   all       5036      44769      0.415      0.191      0.192      0.103\n",
      "\n",
      "      Epoch    GPU_mem   box_loss   cls_loss   dfl_loss  Instances       Size\n",
      "      29/50      16.2G      1.612      1.177      1.049        178        640: 100%|██████████| 440/440 [01:51<00:00,  3.95it/s]\n",
      "                 Class     Images  Instances      Box(P          R      mAP50  mAP50-95): 100%|██████████| 40/40 [00:19<00:00,  2.03it/s]\n",
      "                   all       5036      44769      0.415       0.19      0.193      0.104\n",
      "\n",
      "      Epoch    GPU_mem   box_loss   cls_loss   dfl_loss  Instances       Size\n",
      "      30/50      17.5G      1.601      1.165      1.046        191        640: 100%|██████████| 440/440 [01:52<00:00,  3.92it/s]\n",
      "                 Class     Images  Instances      Box(P          R      mAP50  mAP50-95): 100%|██████████| 40/40 [00:20<00:00,  1.96it/s]\n",
      "                   all       5036      44769      0.415      0.193      0.194      0.104\n",
      "\n",
      "      Epoch    GPU_mem   box_loss   cls_loss   dfl_loss  Instances       Size\n",
      "      31/50      20.7G      1.597      1.159      1.044        321        640: 100%|██████████| 440/440 [01:52<00:00,  3.90it/s]\n",
      "                 Class     Images  Instances      Box(P          R      mAP50  mAP50-95): 100%|██████████| 40/40 [00:20<00:00,  1.94it/s]\n",
      "                   all       5036      44769      0.502      0.196      0.195      0.105\n",
      "\n",
      "      Epoch    GPU_mem   box_loss   cls_loss   dfl_loss  Instances       Size\n",
      "      32/50      18.6G      1.591      1.154      1.042        200        640: 100%|██████████| 440/440 [01:51<00:00,  3.94it/s]\n",
      "                 Class     Images  Instances      Box(P          R      mAP50  mAP50-95): 100%|██████████| 40/40 [00:20<00:00,  1.91it/s]\n",
      "                   all       5036      44769      0.497      0.196      0.196      0.105\n",
      "\n",
      "      Epoch    GPU_mem   box_loss   cls_loss   dfl_loss  Instances       Size\n",
      "      33/50      17.6G      1.582      1.144      1.037        281        640: 100%|██████████| 440/440 [01:50<00:00,  3.97it/s]\n",
      "                 Class     Images  Instances      Box(P          R      mAP50  mAP50-95): 100%|██████████| 40/40 [00:21<00:00,  1.90it/s]\n",
      "                   all       5036      44769      0.509       0.19      0.196      0.106\n",
      "\n",
      "      Epoch    GPU_mem   box_loss   cls_loss   dfl_loss  Instances       Size\n",
      "      34/50        18G      1.576      1.136      1.036        297        640: 100%|██████████| 440/440 [01:51<00:00,  3.95it/s]\n",
      "                 Class     Images  Instances      Box(P          R      mAP50  mAP50-95): 100%|██████████| 40/40 [00:20<00:00,  1.95it/s]\n",
      "                   all       5036      44769      0.515      0.189      0.196      0.106\n",
      "\n",
      "      Epoch    GPU_mem   box_loss   cls_loss   dfl_loss  Instances       Size\n",
      "      35/50      18.6G      1.562      1.124      1.031        257        640: 100%|██████████| 440/440 [01:51<00:00,  3.94it/s]\n",
      "                 Class     Images  Instances      Box(P          R      mAP50  mAP50-95):  62%|██████▎   | 25/40 [00:12<00:07,  1.97it/s]"
     ]
    }
   ],
   "source": [
    "model = YOLO(\"yolov8s.pt\")\n",
    "model.train(project=\"DS6050_Pedestrian_ECP_YOLO\",\n",
    "            data=\"/scratch/ybt7qf/ds6050-group1-project/datasets/eurocitypersonsdataset.yaml\",\n",
    "            epochs=50, \n",
    "            verbose=True, \n",
    "            batch=64,\n",
    "            device=[0])\n",
    "\n",
    "# finish the wandb run, necessary in notebooks\n",
    "wandb.finish()"
   ]
  },
  {
   "cell_type": "code",
   "execution_count": null,
   "metadata": {
    "id": "5213cdd4-8e12-4a1d-b90c-0281ed1e5246",
    "vscode": {
     "languageId": "ruby"
    }
   },
   "outputs": [],
   "source": [
    "# metrics = model.val()  # evaluate model performance on the validation set"
   ]
  },
  {
   "cell_type": "code",
   "execution_count": null,
   "metadata": {},
   "outputs": [],
   "source": [
    "# model = YOLO('')  # load a custom trained model"
   ]
  },
  {
   "cell_type": "code",
   "execution_count": null,
   "metadata": {},
   "outputs": [],
   "source": []
  },
  {
   "cell_type": "code",
   "execution_count": null,
   "metadata": {},
   "outputs": [],
   "source": []
  },
  {
   "cell_type": "code",
   "execution_count": null,
   "metadata": {},
   "outputs": [],
   "source": [
    "# model = YOLO('last.pt')\n",
    "# model.train(\n",
    "#     devices=[4, 5, 6],\n",
    "#     resume=True,\n",
    "# )"
   ]
  },
  {
   "cell_type": "code",
   "execution_count": null,
   "metadata": {},
   "outputs": [],
   "source": [
    "# model = YOLO(\"last.pt\")\n",
    "# model.train(project=\"DS6050_Pedestrian_ECP_YOLO\",\n",
    "#             data=\"/scratch/ybt7qf/ds6050-group1-project/datasets/eurocitypersonsdataset.yaml\",\n",
    "#             epochs=50, \n",
    "#             verbose=True, \n",
    "#             batch=64,\n",
    "#             device=[0])\n",
    "\n",
    "# # finish the wandb run, necessary in notebooks\n",
    "# wandb.finish()"
   ]
  }
 ],
 "metadata": {
  "colab": {
   "provenance": []
  },
  "kernelspec": {
   "display_name": "Python 3",
   "language": "python",
   "name": "python3"
  },
  "language_info": {
   "codemirror_mode": {
    "name": "ipython",
    "version": 3
   },
   "file_extension": ".py",
   "mimetype": "text/x-python",
   "name": "python",
   "nbconvert_exporter": "python",
   "pygments_lexer": "ipython3",
   "version": "3.8.8"
  }
 },
 "nbformat": 4,
 "nbformat_minor": 5
}
