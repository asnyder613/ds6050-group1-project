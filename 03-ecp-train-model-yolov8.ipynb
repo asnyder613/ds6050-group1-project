{
 "cells": [
  {
   "cell_type": "markdown",
   "metadata": {
    "id": "139b6807-2bc9-4481-9a9c-4ea70a1a3d5a"
   },
   "source": [
    "# YOLOv8 Model Training (ECP)\n",
    "**Purpose: Train YOLOv8 model on ECP dataset**</br>\n",
    "**Final Project**</br>\n",
    "**Group 1**</br>\n",
    "**DS6050 Deep Learning**</br>\n",
    "**Fall 2023**</br>"
   ]
  },
  {
   "cell_type": "code",
   "execution_count": 1,
   "metadata": {},
   "outputs": [
    {
     "name": "stdout",
     "output_type": "stream",
     "text": [
      "Note: you may need to restart the kernel to use updated packages.\n",
      "Note: you may need to restart the kernel to use updated packages.\n"
     ]
    }
   ],
   "source": [
    "%pip install wandb -q\n",
    "%pip install ultralytics -q"
   ]
  },
  {
   "cell_type": "code",
   "execution_count": 1,
   "metadata": {
    "id": "4d701f3e-eea6-41bd-a5a9-2e23ecbf6de8",
    "tags": []
   },
   "outputs": [],
   "source": [
    "from ultralytics import YOLO\n",
    "import wandb"
   ]
  },
  {
   "cell_type": "code",
   "execution_count": 4,
   "metadata": {},
   "outputs": [
    {
     "name": "stdout",
     "output_type": "stream",
     "text": [
      "path: /scratch/ybt7qf/ds6050-group1-project/datasets/eurocitypersonsdataset\n",
      "train: /scratch/ybt7qf/ds6050-group1-project/datasets/eurocitypersonsdataset/images/train-resize\n",
      "val: /scratch/ybt7qf/ds6050-group1-project/datasets/eurocitypersonsdataset/images/val-resize\n",
      "    \n",
      "nc: 12\n",
      "    \n",
      "names: [\n",
      "    'buggy-group',\n",
      "    'motorbike',\n",
      "    'person-group-far-away',\n",
      "    'motorbike-group',\n",
      "    'wheelchair-group',\n",
      "    'tricycle-group',\n",
      "    'pedestrian',\n",
      "    'rider+vehicle-group-far-away',\n",
      "    'scooter-group',\n",
      "    'bicycle-group',\n",
      "    'bicycle',\n",
      "    'rider'\n",
      "]\n"
     ]
    }
   ],
   "source": [
    "!cat /scratch/ybt7qf/ds6050-group1-project/datasets/eurocitypersonsdataset.yaml"
   ]
  },
  {
   "cell_type": "code",
   "execution_count": 5,
   "metadata": {
    "id": "34f7434f-9407-48c9-9ca4-eebe69f28eb0",
    "outputId": "da5a2006-2523-40cc-9853-fa7c061e3ad5",
    "tags": []
   },
   "outputs": [
    {
     "name": "stderr",
     "output_type": "stream",
     "text": [
      "New https://pypi.org/project/ultralytics/8.0.203 available 😃 Update with 'pip install -U ultralytics'\n",
      "Ultralytics YOLOv8.0.196 🚀 Python-3.8.8 torch-2.1.0+cu121 CUDA:0 (NVIDIA A100-SXM4-40GB, 40339MiB)\n",
      "\u001b[34m\u001b[1mengine/trainer: \u001b[0mtask=detect, mode=train, model=yolov8s.pt, data=/scratch/ybt7qf/ds6050-group1-project/datasets/eurocitypersonsdataset.yaml, epochs=50, patience=50, batch=32, imgsz=640, save=True, save_period=-1, cache=False, device=[0], workers=8, project=DS6050_Pedestrian_ECP_YOLO, name=None, exist_ok=False, pretrained=True, optimizer=auto, verbose=True, seed=0, deterministic=True, single_cls=False, rect=False, cos_lr=False, close_mosaic=10, resume=False, amp=True, fraction=1.0, profile=False, freeze=None, overlap_mask=True, mask_ratio=4, dropout=0.0, val=True, split=val, save_json=False, save_hybrid=False, conf=None, iou=0.7, max_det=300, half=False, dnn=False, plots=True, source=None, show=False, save_txt=False, save_conf=False, save_crop=False, show_labels=True, show_conf=True, vid_stride=1, stream_buffer=False, line_width=None, visualize=False, augment=False, agnostic_nms=False, classes=None, retina_masks=False, boxes=True, format=torchscript, keras=False, optimize=False, int8=False, dynamic=False, simplify=False, opset=None, workspace=4, nms=False, lr0=0.01, lrf=0.01, momentum=0.937, weight_decay=0.0005, warmup_epochs=3.0, warmup_momentum=0.8, warmup_bias_lr=0.1, box=7.5, cls=0.5, dfl=1.5, pose=12.0, kobj=1.0, label_smoothing=0.0, nbs=64, hsv_h=0.015, hsv_s=0.7, hsv_v=0.4, degrees=0.0, translate=0.1, scale=0.5, shear=0.0, perspective=0.0, flipud=0.0, fliplr=0.5, mosaic=1.0, mixup=0.0, copy_paste=0.0, cfg=None, tracker=botsort.yaml, save_dir=DS6050_Pedestrian_ECP_YOLO/train14\n",
      "Overriding model.yaml nc=80 with nc=12\n",
      "\n",
      "                   from  n    params  module                                       arguments                     \n",
      "  0                  -1  1       928  ultralytics.nn.modules.conv.Conv             [3, 32, 3, 2]                 \n",
      "  1                  -1  1     18560  ultralytics.nn.modules.conv.Conv             [32, 64, 3, 2]                \n",
      "  2                  -1  1     29056  ultralytics.nn.modules.block.C2f             [64, 64, 1, True]             \n",
      "  3                  -1  1     73984  ultralytics.nn.modules.conv.Conv             [64, 128, 3, 2]               \n",
      "  4                  -1  2    197632  ultralytics.nn.modules.block.C2f             [128, 128, 2, True]           \n",
      "  5                  -1  1    295424  ultralytics.nn.modules.conv.Conv             [128, 256, 3, 2]              \n",
      "  6                  -1  2    788480  ultralytics.nn.modules.block.C2f             [256, 256, 2, True]           \n",
      "  7                  -1  1   1180672  ultralytics.nn.modules.conv.Conv             [256, 512, 3, 2]              \n",
      "  8                  -1  1   1838080  ultralytics.nn.modules.block.C2f             [512, 512, 1, True]           \n",
      "  9                  -1  1    656896  ultralytics.nn.modules.block.SPPF            [512, 512, 5]                 \n",
      " 10                  -1  1         0  torch.nn.modules.upsampling.Upsample         [None, 2, 'nearest']          \n",
      " 11             [-1, 6]  1         0  ultralytics.nn.modules.conv.Concat           [1]                           \n",
      " 12                  -1  1    591360  ultralytics.nn.modules.block.C2f             [768, 256, 1]                 \n",
      " 13                  -1  1         0  torch.nn.modules.upsampling.Upsample         [None, 2, 'nearest']          \n",
      " 14             [-1, 4]  1         0  ultralytics.nn.modules.conv.Concat           [1]                           \n",
      " 15                  -1  1    148224  ultralytics.nn.modules.block.C2f             [384, 128, 1]                 \n",
      " 16                  -1  1    147712  ultralytics.nn.modules.conv.Conv             [128, 128, 3, 2]              \n",
      " 17            [-1, 12]  1         0  ultralytics.nn.modules.conv.Concat           [1]                           \n",
      " 18                  -1  1    493056  ultralytics.nn.modules.block.C2f             [384, 256, 1]                 \n",
      " 19                  -1  1    590336  ultralytics.nn.modules.conv.Conv             [256, 256, 3, 2]              \n",
      " 20             [-1, 9]  1         0  ultralytics.nn.modules.conv.Concat           [1]                           \n",
      " 21                  -1  1   1969152  ultralytics.nn.modules.block.C2f             [768, 512, 1]                 \n",
      " 22        [15, 18, 21]  1   2120692  ultralytics.nn.modules.head.Detect           [12, [128, 256, 512]]         \n",
      "Model summary: 225 layers, 11140244 parameters, 11140228 gradients, 28.7 GFLOPs\n",
      "\n",
      "Transferred 349/355 items from pretrained weights\n",
      "\u001b[34m\u001b[1mTensorBoard: \u001b[0mStart with 'tensorboard --logdir DS6050_Pedestrian_ECP_YOLO/train14', view at http://localhost:6006/\n",
      "Freezing layer 'model.22.dfl.conv.weight'\n",
      "\u001b[34m\u001b[1mAMP: \u001b[0mrunning Automatic Mixed Precision (AMP) checks with YOLOv8n...\n",
      "\u001b[34m\u001b[1mAMP: \u001b[0mchecks passed ✅\n",
      "\u001b[34m\u001b[1mtrain: \u001b[0mScanning /sfs/weka/scratch/ybt7qf/ds6050-group1-project/datasets/eurocitypersonsdataset/labels/train-resize.cache... 28114 images, 2453 backgrounds, 0 corrupt: 100%|██████████| 28114/28114 [00:00<?, ?it/s]\n",
      "\u001b[34m\u001b[1mval: \u001b[0mScanning /sfs/weka/scratch/ybt7qf/ds6050-group1-project/datasets/eurocitypersonsdataset/labels/val-resize.cache... 5036 images, 388 backgrounds, 0 corrupt: 100%|██████████| 5036/5036 [00:00<?, ?it/s]\n",
      "Plotting labels to DS6050_Pedestrian_ECP_YOLO/train14/labels.jpg... \n",
      "\u001b[34m\u001b[1moptimizer:\u001b[0m 'optimizer=auto' found, ignoring 'lr0=0.01' and 'momentum=0.937' and determining best 'optimizer', 'lr0' and 'momentum' automatically... \n",
      "\u001b[34m\u001b[1moptimizer:\u001b[0m SGD(lr=0.01, momentum=0.9) with parameter groups 57 weight(decay=0.0), 64 weight(decay=0.0005), 63 bias(decay=0.0)\n",
      "Image sizes 640 train, 640 val\n",
      "Using 8 dataloader workers\n",
      "Logging results to \u001b[1mDS6050_Pedestrian_ECP_YOLO/train14\u001b[0m\n",
      "Starting training for 50 epochs...\n",
      "\n",
      "      Epoch    GPU_mem   box_loss   cls_loss   dfl_loss  Instances       Size\n",
      "       1/50      9.85G      1.775      1.837      1.101        209        640: 100%|██████████| 879/879 [02:07<00:00,  6.87it/s]\n",
      "                 Class     Images  Instances      Box(P          R      mAP50  mAP50-95): 100%|██████████| 79/79 [00:20<00:00,  3.85it/s]\n",
      "                   all       5036      44769      0.548      0.133      0.145     0.0763\n",
      "\n",
      "      Epoch    GPU_mem   box_loss   cls_loss   dfl_loss  Instances       Size\n",
      "       2/50      10.7G      1.736      1.356      1.069        226        640: 100%|██████████| 879/879 [02:05<00:00,  7.01it/s]\n",
      "                 Class     Images  Instances      Box(P          R      mAP50  mAP50-95): 100%|██████████| 79/79 [00:21<00:00,  3.60it/s]\n",
      "                   all       5036      44769      0.507      0.136      0.153     0.0814\n",
      "\n",
      "      Epoch    GPU_mem   box_loss   cls_loss   dfl_loss  Instances       Size\n",
      "       3/50      8.83G      1.789      1.405      1.089        248        640: 100%|██████████| 879/879 [02:03<00:00,  7.13it/s]\n",
      "                 Class     Images  Instances      Box(P          R      mAP50  mAP50-95): 100%|██████████| 79/79 [00:22<00:00,  3.58it/s]\n",
      "                   all       5036      44769      0.436      0.129      0.131     0.0664\n",
      "\n",
      "      Epoch    GPU_mem   box_loss   cls_loss   dfl_loss  Instances       Size\n",
      "       4/50      9.26G      1.829      1.435      1.107        165        640: 100%|██████████| 879/879 [02:02<00:00,  7.16it/s]\n",
      "                 Class     Images  Instances      Box(P          R      mAP50  mAP50-95): 100%|██████████| 79/79 [00:19<00:00,  4.10it/s]\n",
      "                   all       5036      44769       0.45      0.142      0.146     0.0755\n",
      "\n",
      "      Epoch    GPU_mem   box_loss   cls_loss   dfl_loss  Instances       Size\n",
      "       5/50      9.92G      1.762      1.357      1.083        226        640: 100%|██████████| 879/879 [02:00<00:00,  7.27it/s]\n",
      "                 Class     Images  Instances      Box(P          R      mAP50  mAP50-95): 100%|██████████| 79/79 [00:21<00:00,  3.73it/s]\n",
      "                   all       5036      44769      0.382       0.17      0.161      0.085\n",
      "\n",
      "      Epoch    GPU_mem   box_loss   cls_loss   dfl_loss  Instances       Size\n",
      "       6/50      9.53G      1.718      1.312      1.068        388        640: 100%|██████████| 879/879 [02:00<00:00,  7.32it/s]\n",
      "                 Class     Images  Instances      Box(P          R      mAP50  mAP50-95): 100%|██████████| 79/79 [00:20<00:00,  3.85it/s]\n",
      "                   all       5036      44769      0.423      0.159      0.166     0.0871\n",
      "\n",
      "      Epoch    GPU_mem   box_loss   cls_loss   dfl_loss  Instances       Size\n",
      "       7/50      9.62G      1.683      1.271      1.059        271        640: 100%|██████████| 879/879 [02:01<00:00,  7.25it/s]\n",
      "                 Class     Images  Instances      Box(P          R      mAP50  mAP50-95): 100%|██████████| 79/79 [00:21<00:00,  3.65it/s]\n",
      "                   all       5036      44769      0.432      0.157       0.17     0.0906\n",
      "\n",
      "      Epoch    GPU_mem   box_loss   cls_loss   dfl_loss  Instances       Size\n",
      "       8/50      10.4G      1.652      1.241      1.049        284        640: 100%|██████████| 879/879 [02:00<00:00,  7.28it/s]\n",
      "                 Class     Images  Instances      Box(P          R      mAP50  mAP50-95): 100%|██████████| 79/79 [00:20<00:00,  3.84it/s]\n",
      "                   all       5036      44769      0.406       0.17      0.176     0.0967\n",
      "\n",
      "      Epoch    GPU_mem   box_loss   cls_loss   dfl_loss  Instances       Size\n",
      "       9/50      10.5G      1.631      1.214      1.039        216        640: 100%|██████████| 879/879 [02:01<00:00,  7.26it/s]\n",
      "                 Class     Images  Instances      Box(P          R      mAP50  mAP50-95): 100%|██████████| 79/79 [00:19<00:00,  4.05it/s]\n",
      "                   all       5036      44769      0.438      0.164      0.179     0.0975\n",
      "\n",
      "      Epoch    GPU_mem   box_loss   cls_loss   dfl_loss  Instances       Size\n",
      "      10/50      9.66G      1.608      1.192      1.033        261        640: 100%|██████████| 879/879 [02:00<00:00,  7.31it/s]\n",
      "                 Class     Images  Instances      Box(P          R      mAP50  mAP50-95): 100%|██████████| 79/79 [00:19<00:00,  4.07it/s]\n",
      "                   all       5036      44769      0.504      0.177      0.188      0.102\n",
      "\n",
      "      Epoch    GPU_mem   box_loss   cls_loss   dfl_loss  Instances       Size\n",
      "      11/50      9.41G      1.596      1.174      1.031        202        640: 100%|██████████| 879/879 [02:00<00:00,  7.32it/s]\n",
      "                 Class     Images  Instances      Box(P          R      mAP50  mAP50-95): 100%|██████████| 79/79 [00:19<00:00,  4.06it/s]\n",
      "                   all       5036      44769      0.511      0.177      0.186      0.102\n",
      "\n",
      "      Epoch    GPU_mem   box_loss   cls_loss   dfl_loss  Instances       Size\n",
      "      12/50      9.42G      1.574      1.155      1.024        229        640: 100%|██████████| 879/879 [02:00<00:00,  7.30it/s]\n",
      "                 Class     Images  Instances      Box(P          R      mAP50  mAP50-95): 100%|██████████| 79/79 [00:19<00:00,  4.04it/s]\n",
      "                   all       5036      44769      0.359      0.176      0.194      0.107\n",
      "\n",
      "      Epoch    GPU_mem   box_loss   cls_loss   dfl_loss  Instances       Size\n",
      "      13/50      9.01G      1.564      1.147      1.021        194        640: 100%|██████████| 879/879 [01:59<00:00,  7.35it/s]\n",
      "                 Class     Images  Instances      Box(P          R      mAP50  mAP50-95): 100%|██████████| 79/79 [00:19<00:00,  4.08it/s]\n",
      "                   all       5036      44769      0.516       0.19      0.194      0.108\n",
      "\n",
      "      Epoch    GPU_mem   box_loss   cls_loss   dfl_loss  Instances       Size\n",
      "      14/50       9.8G      1.554       1.13      1.015        313        640: 100%|██████████| 879/879 [02:02<00:00,  7.20it/s]\n",
      "                 Class     Images  Instances      Box(P          R      mAP50  mAP50-95): 100%|██████████| 79/79 [00:19<00:00,  4.03it/s]\n",
      "                   all       5036      44769      0.422      0.195      0.199      0.111\n",
      "\n",
      "      Epoch    GPU_mem   box_loss   cls_loss   dfl_loss  Instances       Size\n",
      "      15/50      8.88G      1.542      1.115       1.01        305        640: 100%|██████████| 879/879 [02:00<00:00,  7.30it/s]\n",
      "                 Class     Images  Instances      Box(P          R      mAP50  mAP50-95): 100%|██████████| 79/79 [00:19<00:00,  4.00it/s]\n",
      "                   all       5036      44769      0.441      0.189      0.203      0.113\n",
      "\n",
      "      Epoch    GPU_mem   box_loss   cls_loss   dfl_loss  Instances       Size\n",
      "      16/50      9.07G      1.531      1.109      1.009        310        640: 100%|██████████| 879/879 [02:00<00:00,  7.27it/s]\n",
      "                 Class     Images  Instances      Box(P          R      mAP50  mAP50-95): 100%|██████████| 79/79 [00:19<00:00,  3.99it/s]\n",
      "                   all       5036      44769      0.337      0.206      0.204      0.114\n",
      "\n",
      "      Epoch    GPU_mem   box_loss   cls_loss   dfl_loss  Instances       Size\n",
      "      17/50      9.11G       1.52      1.095      1.004        321        640: 100%|██████████| 879/879 [02:00<00:00,  7.31it/s]\n",
      "                 Class     Images  Instances      Box(P          R      mAP50  mAP50-95): 100%|██████████| 79/79 [00:19<00:00,  4.11it/s]\n",
      "                   all       5036      44769      0.359      0.204      0.212      0.118\n",
      "\n",
      "      Epoch    GPU_mem   box_loss   cls_loss   dfl_loss  Instances       Size\n",
      "      18/50      9.46G      1.518      1.089      1.002        174        640: 100%|██████████| 879/879 [02:01<00:00,  7.25it/s]\n",
      "                 Class     Images  Instances      Box(P          R      mAP50  mAP50-95): 100%|██████████| 79/79 [00:19<00:00,  4.10it/s]\n",
      "                   all       5036      44769      0.445        0.2      0.213       0.12\n",
      "\n",
      "      Epoch    GPU_mem   box_loss   cls_loss   dfl_loss  Instances       Size\n",
      "      19/50      10.5G      1.499      1.072     0.9985        311        640: 100%|██████████| 879/879 [02:01<00:00,  7.23it/s]\n",
      "                 Class     Images  Instances      Box(P          R      mAP50  mAP50-95): 100%|██████████| 79/79 [00:19<00:00,  4.12it/s]\n",
      "                   all       5036      44769      0.447      0.202      0.222      0.122\n",
      "\n",
      "      Epoch    GPU_mem   box_loss   cls_loss   dfl_loss  Instances       Size\n",
      "      20/50      10.3G      1.495      1.067     0.9962        234        640: 100%|██████████| 879/879 [02:01<00:00,  7.23it/s]\n",
      "                 Class     Images  Instances      Box(P          R      mAP50  mAP50-95): 100%|██████████| 79/79 [00:19<00:00,  4.06it/s]\n",
      "                   all       5036      44769      0.441      0.208      0.216      0.122\n",
      "\n",
      "      Epoch    GPU_mem   box_loss   cls_loss   dfl_loss  Instances       Size\n",
      "      21/50      9.35G      1.485       1.06     0.9938        209        640: 100%|██████████| 879/879 [02:00<00:00,  7.30it/s]\n",
      "                 Class     Images  Instances      Box(P          R      mAP50  mAP50-95): 100%|██████████| 79/79 [00:19<00:00,  4.05it/s]\n",
      "                   all       5036      44769      0.444      0.209      0.218      0.124\n",
      "\n",
      "      Epoch    GPU_mem   box_loss   cls_loss   dfl_loss  Instances       Size\n",
      "      22/50      8.93G       1.48      1.052     0.9911        210        640: 100%|██████████| 879/879 [02:00<00:00,  7.32it/s]\n",
      "                 Class     Images  Instances      Box(P          R      mAP50  mAP50-95): 100%|██████████| 79/79 [00:19<00:00,  4.15it/s]\n",
      "                   all       5036      44769      0.461      0.209      0.219      0.125\n",
      "\n",
      "      Epoch    GPU_mem   box_loss   cls_loss   dfl_loss  Instances       Size\n",
      "      23/50      9.64G      1.473      1.045     0.9892        241        640: 100%|██████████| 879/879 [02:00<00:00,  7.29it/s]\n",
      "                 Class     Images  Instances      Box(P          R      mAP50  mAP50-95): 100%|██████████| 79/79 [00:19<00:00,  4.14it/s]\n",
      "                   all       5036      44769      0.437      0.209      0.219      0.124\n",
      "\n",
      "      Epoch    GPU_mem   box_loss   cls_loss   dfl_loss  Instances       Size\n",
      "      24/50      9.33G      1.466      1.035     0.9879        180        640: 100%|██████████| 879/879 [02:00<00:00,  7.29it/s]\n",
      "                 Class     Images  Instances      Box(P          R      mAP50  mAP50-95): 100%|██████████| 79/79 [00:18<00:00,  4.20it/s]\n",
      "                   all       5036      44769      0.439      0.214      0.221      0.126\n",
      "\n",
      "      Epoch    GPU_mem   box_loss   cls_loss   dfl_loss  Instances       Size\n",
      "      25/50      9.73G      1.457      1.028     0.9858        246        640: 100%|██████████| 879/879 [02:00<00:00,  7.30it/s]\n",
      "                 Class     Images  Instances      Box(P          R      mAP50  mAP50-95): 100%|██████████| 79/79 [00:19<00:00,  4.12it/s]\n",
      "                   all       5036      44769      0.461      0.212      0.224      0.128\n",
      "\n",
      "      Epoch    GPU_mem   box_loss   cls_loss   dfl_loss  Instances       Size\n",
      "      26/50      9.84G      1.443      1.015     0.9817        284        640: 100%|██████████| 879/879 [01:59<00:00,  7.33it/s]\n",
      "                 Class     Images  Instances      Box(P          R      mAP50  mAP50-95): 100%|██████████| 79/79 [00:18<00:00,  4.17it/s]\n",
      "                   all       5036      44769      0.468      0.212      0.224      0.129\n",
      "\n",
      "      Epoch    GPU_mem   box_loss   cls_loss   dfl_loss  Instances       Size\n",
      "      27/50      9.24G      1.443      1.011     0.9812        264        640: 100%|██████████| 879/879 [02:00<00:00,  7.30it/s]\n",
      "                 Class     Images  Instances      Box(P          R      mAP50  mAP50-95): 100%|██████████| 79/79 [00:18<00:00,  4.20it/s]\n",
      "                   all       5036      44769      0.462      0.212      0.225      0.129\n",
      "\n",
      "      Epoch    GPU_mem   box_loss   cls_loss   dfl_loss  Instances       Size\n",
      "      28/50      9.72G      1.436      1.004     0.9775        220        640: 100%|██████████| 879/879 [02:00<00:00,  7.29it/s]\n",
      "                 Class     Images  Instances      Box(P          R      mAP50  mAP50-95): 100%|██████████| 79/79 [00:18<00:00,  4.17it/s]\n",
      "                   all       5036      44769      0.449      0.223      0.227       0.13\n",
      "\n",
      "      Epoch    GPU_mem   box_loss   cls_loss   dfl_loss  Instances       Size\n",
      "      29/50      10.4G      1.428     0.9955      0.977        196        640: 100%|██████████| 879/879 [01:59<00:00,  7.33it/s]\n",
      "                 Class     Images  Instances      Box(P          R      mAP50  mAP50-95): 100%|██████████| 79/79 [00:19<00:00,  4.07it/s]\n",
      "                   all       5036      44769      0.437      0.227      0.227      0.131\n",
      "\n",
      "      Epoch    GPU_mem   box_loss   cls_loss   dfl_loss  Instances       Size\n",
      "      30/50      10.5G      1.425     0.9904     0.9745        224        640: 100%|██████████| 879/879 [01:59<00:00,  7.35it/s]\n",
      "                 Class     Images  Instances      Box(P          R      mAP50  mAP50-95): 100%|██████████| 79/79 [00:18<00:00,  4.16it/s]\n",
      "                   all       5036      44769      0.427      0.231      0.228      0.131\n",
      "\n",
      "      Epoch    GPU_mem   box_loss   cls_loss   dfl_loss  Instances       Size\n",
      "      31/50      9.95G      1.417      0.984     0.9744        233        640: 100%|██████████| 879/879 [01:59<00:00,  7.37it/s]\n",
      "                 Class     Images  Instances      Box(P          R      mAP50  mAP50-95): 100%|██████████| 79/79 [00:18<00:00,  4.19it/s]\n",
      "                   all       5036      44769      0.441      0.225      0.228      0.131\n",
      "\n",
      "      Epoch    GPU_mem   box_loss   cls_loss   dfl_loss  Instances       Size\n",
      "      32/50      10.1G      1.408     0.9771     0.9702        293        640: 100%|██████████| 879/879 [02:00<00:00,  7.27it/s]\n",
      "                 Class     Images  Instances      Box(P          R      mAP50  mAP50-95): 100%|██████████| 79/79 [00:19<00:00,  4.15it/s]\n",
      "                   all       5036      44769      0.484      0.224      0.228      0.132\n",
      "\n",
      "      Epoch    GPU_mem   box_loss   cls_loss   dfl_loss  Instances       Size\n",
      "      33/50      10.8G      1.401     0.9667     0.9684        240        640: 100%|██████████| 879/879 [02:01<00:00,  7.26it/s]\n",
      "                 Class     Images  Instances      Box(P          R      mAP50  mAP50-95): 100%|██████████| 79/79 [00:18<00:00,  4.16it/s]\n",
      "                   all       5036      44769      0.487       0.23      0.228      0.131\n",
      "\n",
      "      Epoch    GPU_mem   box_loss   cls_loss   dfl_loss  Instances       Size\n",
      "      34/50      10.1G      1.397      0.962     0.9666        253        640: 100%|██████████| 879/879 [01:59<00:00,  7.33it/s]\n",
      "                 Class     Images  Instances      Box(P          R      mAP50  mAP50-95): 100%|██████████| 79/79 [00:18<00:00,  4.18it/s]\n",
      "                   all       5036      44769      0.475      0.233      0.227      0.131\n",
      "\n",
      "      Epoch    GPU_mem   box_loss   cls_loss   dfl_loss  Instances       Size\n",
      "      35/50       9.8G       1.39     0.9537     0.9625        248        640: 100%|██████████| 879/879 [01:59<00:00,  7.35it/s]\n",
      "                 Class     Images  Instances      Box(P          R      mAP50  mAP50-95): 100%|██████████| 79/79 [00:18<00:00,  4.23it/s]\n",
      "                   all       5036      44769       0.48      0.229      0.228      0.131\n",
      "\n",
      "      Epoch    GPU_mem   box_loss   cls_loss   dfl_loss  Instances       Size\n",
      "      36/50      9.75G      1.378     0.9436      0.961        265        640: 100%|██████████| 879/879 [02:00<00:00,  7.30it/s]\n",
      "                 Class     Images  Instances      Box(P          R      mAP50  mAP50-95): 100%|██████████| 79/79 [00:18<00:00,  4.23it/s]\n",
      "                   all       5036      44769      0.489      0.228      0.228      0.132\n",
      "\n",
      "      Epoch    GPU_mem   box_loss   cls_loss   dfl_loss  Instances       Size\n",
      "      37/50      9.01G      1.373     0.9369     0.9594        190        640: 100%|██████████| 879/879 [02:00<00:00,  7.32it/s]\n",
      "                 Class     Images  Instances      Box(P          R      mAP50  mAP50-95): 100%|██████████| 79/79 [00:18<00:00,  4.19it/s]\n",
      "                   all       5036      44769      0.497      0.229      0.228      0.132\n",
      "\n",
      "      Epoch    GPU_mem   box_loss   cls_loss   dfl_loss  Instances       Size\n",
      "      38/50      9.42G      1.371      0.935     0.9581        212        640: 100%|██████████| 879/879 [02:00<00:00,  7.29it/s]\n",
      "                 Class     Images  Instances      Box(P          R      mAP50  mAP50-95): 100%|██████████| 79/79 [00:18<00:00,  4.17it/s]\n",
      "                   all       5036      44769      0.498      0.227      0.229      0.132\n",
      "\n",
      "      Epoch    GPU_mem   box_loss   cls_loss   dfl_loss  Instances       Size\n",
      "      39/50      10.1G      1.365     0.9289     0.9562        194        640: 100%|██████████| 879/879 [02:01<00:00,  7.22it/s]\n",
      "                 Class     Images  Instances      Box(P          R      mAP50  mAP50-95): 100%|██████████| 79/79 [00:18<00:00,  4.26it/s]\n",
      "                   all       5036      44769      0.502      0.226      0.229      0.132\n",
      "\n",
      "      Epoch    GPU_mem   box_loss   cls_loss   dfl_loss  Instances       Size\n",
      "      40/50      9.65G      1.359     0.9195     0.9557        276        640: 100%|██████████| 879/879 [02:01<00:00,  7.25it/s]\n",
      "                 Class     Images  Instances      Box(P          R      mAP50  mAP50-95): 100%|██████████| 79/79 [00:18<00:00,  4.19it/s]\n",
      "                   all       5036      44769        0.5      0.227      0.229      0.133\n",
      "Closing dataloader mosaic\n",
      "\n",
      "      Epoch    GPU_mem   box_loss   cls_loss   dfl_loss  Instances       Size\n",
      "      41/50      9.13G      1.346     0.9109     0.9543        137        640: 100%|██████████| 879/879 [01:59<00:00,  7.36it/s]\n",
      "                 Class     Images  Instances      Box(P          R      mAP50  mAP50-95): 100%|██████████| 79/79 [00:18<00:00,  4.24it/s]\n",
      "                   all       5036      44769      0.501      0.227      0.229      0.133\n",
      "\n",
      "      Epoch    GPU_mem   box_loss   cls_loss   dfl_loss  Instances       Size\n",
      "      42/50      8.37G      1.333     0.8968     0.9495        103        640: 100%|██████████| 879/879 [01:58<00:00,  7.44it/s]\n",
      "                 Class     Images  Instances      Box(P          R      mAP50  mAP50-95): 100%|██████████| 79/79 [00:18<00:00,  4.19it/s]\n",
      "                   all       5036      44769        0.5      0.228      0.229      0.133\n",
      "\n",
      "      Epoch    GPU_mem   box_loss   cls_loss   dfl_loss  Instances       Size\n",
      "      43/50      8.79G      1.324     0.8866     0.9465        113        640: 100%|██████████| 879/879 [01:58<00:00,  7.42it/s]\n",
      "                 Class     Images  Instances      Box(P          R      mAP50  mAP50-95): 100%|██████████| 79/79 [00:18<00:00,  4.29it/s]\n",
      "                   all       5036      44769      0.499      0.228       0.23      0.133\n",
      "\n",
      "      Epoch    GPU_mem   box_loss   cls_loss   dfl_loss  Instances       Size\n",
      "      44/50      8.81G      1.319     0.8783     0.9446        231        640: 100%|██████████| 879/879 [02:00<00:00,  7.28it/s]\n",
      "                 Class     Images  Instances      Box(P          R      mAP50  mAP50-95): 100%|██████████| 79/79 [00:18<00:00,  4.24it/s]\n",
      "                   all       5036      44769      0.501      0.226       0.23      0.133\n",
      "\n",
      "      Epoch    GPU_mem   box_loss   cls_loss   dfl_loss  Instances       Size\n",
      "      45/50      8.48G      1.308     0.8709     0.9414        133        640: 100%|██████████| 879/879 [01:58<00:00,  7.39it/s]\n",
      "                 Class     Images  Instances      Box(P          R      mAP50  mAP50-95): 100%|██████████| 79/79 [00:18<00:00,  4.25it/s]\n",
      "                   all       5036      44769      0.503      0.225       0.23      0.133\n",
      "\n",
      "      Epoch    GPU_mem   box_loss   cls_loss   dfl_loss  Instances       Size\n",
      "      46/50       8.5G      1.301     0.8601     0.9394        102        640: 100%|██████████| 879/879 [01:58<00:00,  7.42it/s]\n",
      "                 Class     Images  Instances      Box(P          R      mAP50  mAP50-95): 100%|██████████| 79/79 [00:18<00:00,  4.22it/s]\n",
      "                   all       5036      44769      0.503      0.223      0.229      0.133\n",
      "\n",
      "      Epoch    GPU_mem   box_loss   cls_loss   dfl_loss  Instances       Size\n",
      "      47/50      8.47G      1.293     0.8536     0.9384        138        640: 100%|██████████| 879/879 [01:58<00:00,  7.44it/s]\n",
      "                 Class     Images  Instances      Box(P          R      mAP50  mAP50-95): 100%|██████████| 79/79 [00:18<00:00,  4.29it/s]\n",
      "                   all       5036      44769      0.503      0.222       0.23      0.133\n",
      "\n",
      "      Epoch    GPU_mem   box_loss   cls_loss   dfl_loss  Instances       Size\n",
      "      48/50      8.35G      1.284      0.845      0.936        148        640: 100%|██████████| 879/879 [02:00<00:00,  7.32it/s]\n",
      "                 Class     Images  Instances      Box(P          R      mAP50  mAP50-95): 100%|██████████| 79/79 [00:18<00:00,  4.17it/s]\n",
      "                   all       5036      44769      0.503      0.221      0.229      0.133\n",
      "\n",
      "      Epoch    GPU_mem   box_loss   cls_loss   dfl_loss  Instances       Size\n",
      "      49/50      8.48G      1.276     0.8354     0.9328        125        640: 100%|██████████| 879/879 [02:00<00:00,  7.30it/s]\n",
      "                 Class     Images  Instances      Box(P          R      mAP50  mAP50-95): 100%|██████████| 79/79 [00:18<00:00,  4.28it/s]\n",
      "                   all       5036      44769      0.501      0.222      0.229      0.133\n",
      "\n",
      "      Epoch    GPU_mem   box_loss   cls_loss   dfl_loss  Instances       Size\n",
      "      50/50      8.39G      1.269     0.8296     0.9312        143        640: 100%|██████████| 879/879 [01:59<00:00,  7.39it/s]\n",
      "                 Class     Images  Instances      Box(P          R      mAP50  mAP50-95): 100%|██████████| 79/79 [00:19<00:00,  4.07it/s]\n",
      "                   all       5036      44769      0.501      0.221      0.229      0.133\n",
      "\n",
      "50 epochs completed in 1.976 hours.\n",
      "Optimizer stripped from DS6050_Pedestrian_ECP_YOLO/train14/weights/last.pt, 22.5MB\n",
      "Optimizer stripped from DS6050_Pedestrian_ECP_YOLO/train14/weights/best.pt, 22.5MB\n",
      "\n",
      "Validating DS6050_Pedestrian_ECP_YOLO/train14/weights/best.pt...\n",
      "Ultralytics YOLOv8.0.196 🚀 Python-3.8.8 torch-2.1.0+cu121 CUDA:0 (NVIDIA A100-SXM4-40GB, 40339MiB)\n",
      "Model summary (fused): 168 layers, 11130228 parameters, 0 gradients, 28.5 GFLOPs\n",
      "                 Class     Images  Instances      Box(P          R      mAP50  mAP50-95): 100%|██████████| 79/79 [00:24<00:00,  3.25it/s]\n",
      "                   all       5036      44769      0.502      0.222      0.229      0.133\n",
      "           buggy-group       5036        157      0.373      0.185      0.154     0.0762\n",
      "             motorbike       5036          2          1          0          0          0\n",
      " person-group-far-away       5036      11041       0.41     0.0385     0.0952     0.0361\n",
      "       motorbike-group       5036        640      0.369      0.207      0.183     0.0968\n",
      "      wheelchair-group       5036          7          0          0          0          0\n",
      "        tricycle-group       5036          9          1          0    0.00122   0.000904\n",
      "            pedestrian       5036      26236      0.709      0.705      0.749      0.457\n",
      "rider+vehicle-group-far-away       5036        288      0.402    0.00347    0.00973      0.004\n",
      "         scooter-group       5036       1616      0.542      0.506       0.48      0.273\n",
      "         bicycle-group       5036       2592      0.517      0.449      0.448      0.241\n",
      "               bicycle       5036          8          0          0          0          0\n",
      "                 rider       5036       2173      0.697      0.576      0.632      0.411\n",
      "Speed: 0.0ms preprocess, 0.5ms inference, 0.0ms loss, 0.6ms postprocess per image\n",
      "Results saved to \u001b[1mDS6050_Pedestrian_ECP_YOLO/train14\u001b[0m\n"
     ]
    },
    {
     "data": {
      "text/html": [
       "Waiting for W&B process to finish... <strong style=\"color:green\">(success).</strong>"
      ],
      "text/plain": [
       "<IPython.core.display.HTML object>"
      ]
     },
     "metadata": {},
     "output_type": "display_data"
    },
    {
     "data": {
      "text/html": [
       "<style>\n",
       "    table.wandb td:nth-child(1) { padding: 0 10px; text-align: left ; width: auto;} td:nth-child(2) {text-align: left ; width: 100%}\n",
       "    .wandb-row { display: flex; flex-direction: row; flex-wrap: wrap; justify-content: flex-start; width: 100% }\n",
       "    .wandb-col { display: flex; flex-direction: column; flex-basis: 100%; flex: 1; padding: 10px; }\n",
       "    </style>\n",
       "<div class=\"wandb-row\"><div class=\"wandb-col\"><h3>Run history:</h3><br/><table class=\"wandb\"><tr><td>lr/pg0</td><td>▃▆████▇▇▇▇▇▆▆▆▆▆▅▅▅▅▅▅▄▄▄▄▄▃▃▃▃▃▂▂▂▂▂▁▁▁</td></tr><tr><td>lr/pg1</td><td>▃▆████▇▇▇▇▇▆▆▆▆▆▅▅▅▅▅▅▄▄▄▄▄▃▃▃▃▃▂▂▂▂▂▁▁▁</td></tr><tr><td>lr/pg2</td><td>▃▆████▇▇▇▇▇▆▆▆▆▆▅▅▅▅▅▅▄▄▄▄▄▃▃▃▃▃▂▂▂▂▂▁▁▁</td></tr><tr><td>metrics/mAP50(B)</td><td>▂▃▁▂▃▄▄▄▅▅▅▆▆▇▇▇▇▇▇▇████████████████████</td></tr><tr><td>metrics/mAP50-95(B)</td><td>▂▃▁▂▃▄▄▄▅▅▅▆▆▆▇▇▇▇▇▇████████████████████</td></tr><tr><td>metrics/precision(B)</td><td>█▇▄▅▄▄▃▄▇▂▇▄▁▂▅▅▅▅▄▄▅▅▅▄▄▆▆▆▆▆▆▆▆▆▆▆▇▇▇▆</td></tr><tr><td>metrics/recall(B)</td><td>▁▁▁▂▃▃▄▃▄▄▅▅▆▆▆▆▆▆▆▇▇▇▇█▇▇██████████▇▇▇▇</td></tr><tr><td>model/GFLOPs</td><td>▁</td></tr><tr><td>model/parameters</td><td>▁</td></tr><tr><td>model/speed_PyTorch(ms)</td><td>▁</td></tr><tr><td>train/box_loss</td><td>▇▇██▇▆▆▆▅▅▅▅▄▄▄▄▄▄▄▃▃▃▃▃▃▃▃▃▂▂▂▂▂▂▂▂▁▁▁▁</td></tr><tr><td>train/cls_loss</td><td>█▅▅▅▄▄▄▄▃▃▃▃▃▃▃▃▃▃▂▂▂▂▂▂▂▂▂▂▂▂▂▂▂▁▁▁▁▁▁▁</td></tr><tr><td>train/dfl_loss</td><td>█▇▇█▆▆▆▅▅▅▅▄▄▄▄▄▃▃▃▃▃▃▃▃▃▃▂▂▂▂▂▂▂▂▂▂▁▁▁▁</td></tr><tr><td>val/box_loss</td><td>▆▅█▇▅▅▄▄▃▃▃▃▂▂▂▂▂▂▂▂▁▁▁▁▁▁▁▁▁▁▁▁▁▁▁▁▁▁▁▁</td></tr><tr><td>val/cls_loss</td><td>▆▆█▆▅▅▄▄▃▃▃▂▂▂▂▂▂▂▂▂▁▁▁▁▁▁▁▁▁▁▁▁▁▁▁▁▁▁▁▁</td></tr><tr><td>val/dfl_loss</td><td>▅▅█▆▅▅▄▄▃▃▃▂▂▂▂▂▂▂▁▁▁▁▁▁▁▁▁▁▁▁▁▁▁▁▁▁▁▁▁▁</td></tr></table><br/></div><div class=\"wandb-col\"><h3>Run summary:</h3><br/><table class=\"wandb\"><tr><td>lr/pg0</td><td>0.0005</td></tr><tr><td>lr/pg1</td><td>0.0005</td></tr><tr><td>lr/pg2</td><td>0.0005</td></tr><tr><td>metrics/mAP50(B)</td><td>0.22938</td></tr><tr><td>metrics/mAP50-95(B)</td><td>0.13292</td></tr><tr><td>metrics/precision(B)</td><td>0.50153</td></tr><tr><td>metrics/recall(B)</td><td>0.22246</td></tr><tr><td>model/GFLOPs</td><td>28.671</td></tr><tr><td>model/parameters</td><td>11140244</td></tr><tr><td>model/speed_PyTorch(ms)</td><td>0.539</td></tr><tr><td>train/box_loss</td><td>1.26907</td></tr><tr><td>train/cls_loss</td><td>0.82957</td></tr><tr><td>train/dfl_loss</td><td>0.93119</td></tr><tr><td>val/box_loss</td><td>1.36939</td></tr><tr><td>val/cls_loss</td><td>0.94049</td></tr><tr><td>val/dfl_loss</td><td>0.97645</td></tr></table><br/></div></div>"
      ],
      "text/plain": [
       "<IPython.core.display.HTML object>"
      ]
     },
     "metadata": {},
     "output_type": "display_data"
    },
    {
     "data": {
      "text/html": [
       " View run <strong style=\"color:#cdcd00\">snowy-cloud-15</strong> at: <a href='https://wandb.ai/ds6050-pedestriandetection/DS6050_Pedestrian_ECP_YOLO/runs/qxcds4f8' target=\"_blank\">https://wandb.ai/ds6050-pedestriandetection/DS6050_Pedestrian_ECP_YOLO/runs/qxcds4f8</a><br/>Synced 6 W&B file(s), 20 media file(s), 1 artifact file(s) and 0 other file(s)"
      ],
      "text/plain": [
       "<IPython.core.display.HTML object>"
      ]
     },
     "metadata": {},
     "output_type": "display_data"
    },
    {
     "data": {
      "text/html": [
       "Find logs at: <code>./wandb/run-20231101_090718-qxcds4f8/logs</code>"
      ],
      "text/plain": [
       "<IPython.core.display.HTML object>"
      ]
     },
     "metadata": {},
     "output_type": "display_data"
    }
   ],
   "source": [
    "model = YOLO(\"yolov8s.pt\")\n",
    "model.train(project=\"DS6050_Pedestrian_ECP_YOLO\",\n",
    "            data=\"/scratch/ybt7qf/ds6050-group1-project/datasets/eurocitypersonsdataset.yaml\",\n",
    "            epochs=50, \n",
    "            verbose=True, \n",
    "            batch=32,\n",
    "            device=[0])\n",
    "\n",
    "# finish the wandb run, necessary in notebooks\n",
    "wandb.finish()"
   ]
  },
  {
   "cell_type": "code",
   "execution_count": 6,
   "metadata": {
    "id": "5213cdd4-8e12-4a1d-b90c-0281ed1e5246",
    "vscode": {
     "languageId": "ruby"
    }
   },
   "outputs": [
    {
     "name": "stderr",
     "output_type": "stream",
     "text": [
      "Ultralytics YOLOv8.0.196 🚀 Python-3.8.8 torch-2.1.0+cu121 CUDA:0 (NVIDIA A100-SXM4-40GB, 40339MiB)\n",
      "Model summary (fused): 168 layers, 11130228 parameters, 0 gradients, 28.5 GFLOPs\n",
      "\u001b[34m\u001b[1mval: \u001b[0mScanning /sfs/weka/scratch/ybt7qf/ds6050-group1-project/datasets/eurocitypersonsdataset/labels/val-resize.cache... 5036 images, 388 backgrounds, 0 corrupt: 100%|██████████| 5036/5036 [00:00<?, ?it/s]\n",
      "                 Class     Images  Instances      Box(P          R      mAP50  mAP50-95): 100%|██████████| 158/158 [00:25<00:00,  6.08it/s]\n",
      "                   all       5036      44769      0.501      0.223       0.23      0.133\n",
      "           buggy-group       5036        157      0.366      0.185      0.153     0.0749\n",
      "             motorbike       5036          2          1          0          0          0\n",
      " person-group-far-away       5036      11041      0.413     0.0386      0.095     0.0363\n",
      "       motorbike-group       5036        640      0.369      0.206      0.184     0.0974\n",
      "      wheelchair-group       5036          7          0          0          0          0\n",
      "        tricycle-group       5036          9          1          0    0.00122   0.000905\n",
      "            pedestrian       5036      26236      0.711      0.705       0.75      0.459\n",
      "rider+vehicle-group-far-away       5036        288      0.403    0.00347    0.00993     0.0041\n",
      "         scooter-group       5036       1616       0.54      0.508      0.481      0.272\n",
      "         bicycle-group       5036       2592      0.515      0.448      0.448      0.241\n",
      "               bicycle       5036          8          0          0          0          0\n",
      "                 rider       5036       2173      0.699      0.577      0.635      0.412\n",
      "Speed: 0.1ms preprocess, 0.8ms inference, 0.0ms loss, 0.6ms postprocess per image\n",
      "Results saved to \u001b[1mDS6050_Pedestrian_ECP_YOLO/val\u001b[0m\n"
     ]
    }
   ],
   "source": [
    "metrics = model.val()  # evaluate model performance on the validation set"
   ]
  },
  {
   "cell_type": "code",
   "execution_count": null,
   "metadata": {},
   "outputs": [],
   "source": [
    "# model = YOLO('')  # load a custom trained model"
   ]
  },
  {
   "cell_type": "code",
   "execution_count": null,
   "metadata": {},
   "outputs": [],
   "source": []
  },
  {
   "cell_type": "code",
   "execution_count": null,
   "metadata": {},
   "outputs": [],
   "source": []
  },
  {
   "cell_type": "code",
   "execution_count": null,
   "metadata": {},
   "outputs": [],
   "source": [
    "# model = YOLO('last.pt')\n",
    "# model.train(\n",
    "#     devices=[4, 5, 6],\n",
    "#     resume=True,\n",
    "# )"
   ]
  },
  {
   "cell_type": "code",
   "execution_count": null,
   "metadata": {},
   "outputs": [],
   "source": [
    "# model = YOLO(\"last.pt\")\n",
    "# model.train(project=\"DS6050_Pedestrian_ECP_YOLO\",\n",
    "#             data=\"/scratch/ybt7qf/ds6050-group1-project/datasets/eurocitypersonsdataset.yaml\",\n",
    "#             epochs=50, \n",
    "#             verbose=True, \n",
    "#             batch=64,\n",
    "#             device=[0])\n",
    "\n",
    "# # finish the wandb run, necessary in notebooks\n",
    "# wandb.finish()"
   ]
  }
 ],
 "metadata": {
  "colab": {
   "provenance": []
  },
  "kernelspec": {
   "display_name": "Python 3",
   "language": "python",
   "name": "python3"
  },
  "language_info": {
   "codemirror_mode": {
    "name": "ipython",
    "version": 3
   },
   "file_extension": ".py",
   "mimetype": "text/x-python",
   "name": "python",
   "nbconvert_exporter": "python",
   "pygments_lexer": "ipython3",
   "version": "3.8.8"
  }
 },
 "nbformat": 4,
 "nbformat_minor": 5
}
