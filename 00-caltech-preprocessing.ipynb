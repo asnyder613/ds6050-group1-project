{
 "cells": [
  {
   "cell_type": "markdown",
   "metadata": {},
   "source": [
    "# Caltech Pre-processing\n",
    "**Purpose: Convert raw Caltech data to YOLO and COCO label formats**</br>\n",
    "**Final Project**</br>\n",
    "**Group 1**</br>\n",
    "**DS6050 Deep Learning**</br>\n",
    "**Fall 2023**</br>"
   ]
  },
  {
   "cell_type": "code",
   "execution_count": null,
   "metadata": {},
   "outputs": [],
   "source": [
    "%pip install opencv-python pylabel -q"
   ]
  },
  {
   "cell_type": "markdown",
   "metadata": {},
   "source": [
    "## Download Data"
   ]
  },
  {
   "cell_type": "code",
   "execution_count": null,
   "metadata": {},
   "outputs": [],
   "source": [
    "!wget \"https://data.caltech.edu/records/f6rph-90m20/files/data_and_labels.zip?download=1\" -O caltechpedestriandataset.zip"
   ]
  },
  {
   "cell_type": "markdown",
   "metadata": {},
   "source": [
    "## Unpack Data"
   ]
  },
  {
   "cell_type": "code",
   "execution_count": null,
   "metadata": {},
   "outputs": [],
   "source": [
    "!unzip caltechpedestriandataset.zip -d caltechpedestriandataset"
   ]
  },
  {
   "cell_type": "markdown",
   "metadata": {},
   "source": [
    "## Create YOLO Labels"
   ]
  },
  {
   "cell_type": "code",
   "execution_count": null,
   "metadata": {},
   "outputs": [],
   "source": [
    "!caltech-to-yolo.py"
   ]
  },
  {
   "cell_type": "markdown",
   "metadata": {},
   "source": [
    "## Move Data (optional)"
   ]
  },
  {
   "cell_type": "code",
   "execution_count": null,
   "metadata": {},
   "outputs": [],
   "source": [
    "!mv datasets/caltechpedestriandataset /scratch/ybt7qf/ds6050-group1-project/datasets --recursive"
   ]
  },
  {
   "cell_type": "markdown",
   "metadata": {},
   "source": [
    "## Create YOLO Yaml"
   ]
  },
  {
   "cell_type": "code",
   "execution_count": null,
   "metadata": {},
   "outputs": [],
   "source": [
    "%%writefile /scratch/ybt7qf/ds6050-group1-project/datasets/caltechpedestriandataset.yaml\n",
    "path: /scratch/ybt7qf/ds6050-group1-project/datasets/caltechpedestriandataset/\n",
    "train: /scratch/ybt7qf/ds6050-group1-project/datasets/caltechpedestriandataset/images/train\n",
    "val: /scratch/ybt7qf/ds6050-group1-project/datasets/caltechpedestriandataset/images/val\n",
    "    \n",
    "nc: 1\n",
    "    \n",
    "names: [\n",
    "    'person'\n",
    "]"
   ]
  },
  {
   "cell_type": "markdown",
   "metadata": {},
   "source": [
    "## Convert Training Labels to COCO Format"
   ]
  },
  {
   "cell_type": "code",
   "execution_count": null,
   "metadata": {},
   "outputs": [],
   "source": [
    "!python yolo-to-coco.py \\\n",
    "    --path_to_annotations /scratch/ybt7qf/ds6050-group1-project/datasets/caltechpedestriandataset/labels/train/ \\\n",
    "    --path_to_images /scratch/ybt7qf/ds6050-group1-project/datasets/caltechpedestriandataset/images/train/ \\\n",
    "    --path_to_yolo_yaml /scratch/ybt7qf/ds6050-group1-project/datasets/caltechpedestriandataset.yaml \\\n",
    "    --name caltechpedestriandataset_train"
   ]
  },
  {
   "cell_type": "markdown",
   "metadata": {},
   "source": [
    "## Convert Validation Labels to COCO Format"
   ]
  },
  {
   "cell_type": "code",
   "execution_count": null,
   "metadata": {},
   "outputs": [],
   "source": [
    "!python yolo-to-coco.py \\\n",
    "    --path_to_annotations /scratch/ybt7qf/ds6050-group1-project/datasets/caltechpedestriandataset/labels/val/ \\\n",
    "    --path_to_images /scratch/ybt7qf/ds6050-group1-project/datasets/caltechpedestriandataset/images/val/ \\\n",
    "    --path_to_yolo_yaml /scratch/ybt7qf/ds6050-group1-project/datasets/caltechpedestriandataset.yaml \\\n",
    "    --name caltechpedestriandataset_val"
   ]
  },
  {
   "cell_type": "markdown",
   "metadata": {},
   "source": []
  }
 ],
 "metadata": {
  "kernelspec": {
   "display_name": "base",
   "language": "python",
   "name": "python3"
  },
  "language_info": {
   "codemirror_mode": {
    "name": "ipython",
    "version": 3
   },
   "file_extension": ".py",
   "mimetype": "text/x-python",
   "name": "python",
   "nbconvert_exporter": "python",
   "pygments_lexer": "ipython3",
   "version": "3.8.8"
  },
  "orig_nbformat": 4
 },
 "nbformat": 4,
 "nbformat_minor": 2
}
